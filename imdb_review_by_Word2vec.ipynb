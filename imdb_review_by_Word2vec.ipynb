{
 "cells": [
  {
   "cell_type": "code",
   "execution_count": 1,
   "metadata": {
    "id": "9IyJw0y98fQ6"
   },
   "outputs": [],
   "source": [
    "import pandas as pd\n",
    "import numpy as np"
   ]
  },
  {
   "cell_type": "code",
   "execution_count": 2,
   "metadata": {
    "id": "shCjpg9uBwjI"
   },
   "outputs": [],
   "source": [
    "df = pd.read_csv('../datasets/IMDB Dataset.csv')"
   ]
  },
  {
   "cell_type": "code",
   "execution_count": 3,
   "metadata": {
    "colab": {
     "base_uri": "https://localhost:8080/",
     "height": 206
    },
    "id": "dkMTdoVDB8VI",
    "outputId": "e1dbc5b9-ae3a-4a7a-d384-0b0403d0b97d"
   },
   "outputs": [
    {
     "data": {
      "text/html": [
       "<div>\n",
       "<style scoped>\n",
       "    .dataframe tbody tr th:only-of-type {\n",
       "        vertical-align: middle;\n",
       "    }\n",
       "\n",
       "    .dataframe tbody tr th {\n",
       "        vertical-align: top;\n",
       "    }\n",
       "\n",
       "    .dataframe thead th {\n",
       "        text-align: right;\n",
       "    }\n",
       "</style>\n",
       "<table border=\"1\" class=\"dataframe\">\n",
       "  <thead>\n",
       "    <tr style=\"text-align: right;\">\n",
       "      <th></th>\n",
       "      <th>review</th>\n",
       "      <th>sentiment</th>\n",
       "    </tr>\n",
       "  </thead>\n",
       "  <tbody>\n",
       "    <tr>\n",
       "      <th>0</th>\n",
       "      <td>One of the other reviewers has mentioned that ...</td>\n",
       "      <td>positive</td>\n",
       "    </tr>\n",
       "    <tr>\n",
       "      <th>1</th>\n",
       "      <td>A wonderful little production. &lt;br /&gt;&lt;br /&gt;The...</td>\n",
       "      <td>positive</td>\n",
       "    </tr>\n",
       "    <tr>\n",
       "      <th>2</th>\n",
       "      <td>I thought this was a wonderful way to spend ti...</td>\n",
       "      <td>positive</td>\n",
       "    </tr>\n",
       "    <tr>\n",
       "      <th>3</th>\n",
       "      <td>Basically there's a family where a little boy ...</td>\n",
       "      <td>negative</td>\n",
       "    </tr>\n",
       "    <tr>\n",
       "      <th>4</th>\n",
       "      <td>Petter Mattei's \"Love in the Time of Money\" is...</td>\n",
       "      <td>positive</td>\n",
       "    </tr>\n",
       "  </tbody>\n",
       "</table>\n",
       "</div>"
      ],
      "text/plain": [
       "                                              review sentiment\n",
       "0  One of the other reviewers has mentioned that ...  positive\n",
       "1  A wonderful little production. <br /><br />The...  positive\n",
       "2  I thought this was a wonderful way to spend ti...  positive\n",
       "3  Basically there's a family where a little boy ...  negative\n",
       "4  Petter Mattei's \"Love in the Time of Money\" is...  positive"
      ]
     },
     "execution_count": 3,
     "metadata": {},
     "output_type": "execute_result"
    }
   ],
   "source": [
    "df.head()"
   ]
  },
  {
   "cell_type": "code",
   "execution_count": 4,
   "metadata": {
    "colab": {
     "base_uri": "https://localhost:8080/"
    },
    "id": "bzeySCUqEaA8",
    "outputId": "4dc7dfb1-8496-4664-8f9b-43caf01fb78d"
   },
   "outputs": [
    {
     "data": {
      "text/plain": [
       "(50000, 2)"
      ]
     },
     "execution_count": 4,
     "metadata": {},
     "output_type": "execute_result"
    }
   ],
   "source": [
    "df.shape"
   ]
  },
  {
   "cell_type": "code",
   "execution_count": 5,
   "metadata": {
    "id": "YbcQWDiDEhTD"
   },
   "outputs": [],
   "source": [
    "from sklearn.model_selection import train_test_split\n",
    "df_train,df_test= train_test_split(df,test_size=0.2,random_state=18)"
   ]
  },
  {
   "cell_type": "code",
   "execution_count": 6,
   "metadata": {
    "colab": {
     "base_uri": "https://localhost:8080/"
    },
    "id": "9EF-abzQE7nk",
    "outputId": "205e8de2-8b39-4b72-eaca-2d59722ab96c"
   },
   "outputs": [
    {
     "data": {
      "text/plain": [
       "(40000, 2)"
      ]
     },
     "execution_count": 6,
     "metadata": {},
     "output_type": "execute_result"
    }
   ],
   "source": [
    "df_train.shape"
   ]
  },
  {
   "cell_type": "code",
   "execution_count": 7,
   "metadata": {
    "id": "k1dOrE62E9wm"
   },
   "outputs": [],
   "source": [
    "review1 = df_train.iloc[0][0]"
   ]
  },
  {
   "cell_type": "code",
   "execution_count": 8,
   "metadata": {
    "id": "SP4pObrRFgJ-"
   },
   "outputs": [],
   "source": [
    "# lowering down the review\n",
    "review1 =review1.lower()"
   ]
  },
  {
   "cell_type": "code",
   "execution_count": 9,
   "metadata": {
    "id": "wbbdTy7vGtlW"
   },
   "outputs": [],
   "source": [
    "#remove html tags\n",
    "import re\n",
    "def cleanhtml(raw_html):\n",
    "    raw_html = raw_html.lower()\n",
    "    CLEANR = re.compile('<.*?>')\n",
    "    cleantext = re.sub(CLEANR, '', raw_html)\n",
    "    return cleantext\n"
   ]
  },
  {
   "cell_type": "code",
   "execution_count": 10,
   "metadata": {
    "id": "Qdl9OhoFKyr5"
   },
   "outputs": [],
   "source": [
    "df_train['review'] = df_train['review'].apply(cleanhtml)"
   ]
  },
  {
   "cell_type": "code",
   "execution_count": 11,
   "metadata": {
    "colab": {
     "base_uri": "https://localhost:8080/"
    },
    "id": "9R03LoRxLBW-",
    "outputId": "bea9159d-d3ce-4a46-f411-d96a70695d92"
   },
   "outputs": [
    {
     "data": {
      "text/plain": [
       "20469    pros: akshay kumar's performance(is it just me...\n",
       "36519    very rarely does one come across an indie come...\n",
       "292      when i first saw this film around 6 months ago...\n",
       "7360     i thought it was an excellent movie. gary cole...\n",
       "29734    the danes character finally let's buddy have t...\n",
       "                               ...                        \n",
       "49073    gentle and genial film seems to have been over...\n",
       "1726     i watched this movie based on the comments of ...\n",
       "35653    ...which isn't exactly a ringing endorsement. ...\n",
       "25720    not as bad as some are making it out to be, th...\n",
       "28947    imagine the most depressing winter you will ne...\n",
       "Name: review, Length: 40000, dtype: object"
      ]
     },
     "execution_count": 11,
     "metadata": {},
     "output_type": "execute_result"
    }
   ],
   "source": [
    "df_train['review']"
   ]
  },
  {
   "cell_type": "code",
   "execution_count": 12,
   "metadata": {
    "id": "d879CBsQMXx9"
   },
   "outputs": [],
   "source": [
    "from tensorflow.keras.preprocessing.text import Tokenizer"
   ]
  },
  {
   "cell_type": "code",
   "execution_count": 13,
   "metadata": {
    "id": "tAKcxC7YRxnZ"
   },
   "outputs": [],
   "source": [
    "tokenizer = Tokenizer(num_words=25000)\n",
    "tokenizer.fit_on_texts(df_train['review'])  # word frequesncy"
   ]
  },
  {
   "cell_type": "code",
   "execution_count": 14,
   "metadata": {
    "colab": {
     "base_uri": "https://localhost:8080/"
    },
    "id": "eTpZ4gf5STG2",
    "outputId": "2b4d7d2e-1147-42fe-9b84-f3e2953697c7"
   },
   "outputs": [
    {
     "data": {
      "text/plain": [
       "113612"
      ]
     },
     "execution_count": 14,
     "metadata": {},
     "output_type": "execute_result"
    }
   ],
   "source": [
    "len(tokenizer.index_word)"
   ]
  },
  {
   "cell_type": "code",
   "execution_count": 15,
   "metadata": {
    "id": "5aOZxDqSSdh2"
   },
   "outputs": [],
   "source": [
    "tokenized_data = tokenizer.texts_to_sequences(df_train['review'])"
   ]
  },
  {
   "cell_type": "code",
   "execution_count": 16,
   "metadata": {
    "colab": {
     "base_uri": "https://localhost:8080/",
     "height": 36
    },
    "id": "aNtNJN_YU9yt",
    "outputId": "17ae016b-3523-451d-9d04-5c63e1c42fb4"
   },
   "outputs": [
    {
     "data": {
      "text/plain": [
       "'pros'"
      ]
     },
     "execution_count": 16,
     "metadata": {},
     "output_type": "execute_result"
    }
   ],
   "source": [
    "tokenizer.index_word[7401]"
   ]
  },
  {
   "cell_type": "code",
   "execution_count": 17,
   "metadata": {
    "colab": {
     "base_uri": "https://localhost:8080/"
    },
    "id": "uDJYO_6sT7Yk",
    "outputId": "95a902b6-b0fa-4440-98fa-df6a2fd6ec6f"
   },
   "outputs": [
    {
     "data": {
      "text/plain": [
       "(342, 130, 143, 129)"
      ]
     },
     "execution_count": 17,
     "metadata": {},
     "output_type": "execute_result"
    }
   ],
   "source": [
    "len(tokenized_data[0]),len(tokenized_data[1]),len(tokenized_data[2]),len(tokenized_data[3])"
   ]
  },
  {
   "cell_type": "code",
   "execution_count": 18,
   "metadata": {
    "colab": {
     "base_uri": "https://localhost:8080/"
    },
    "id": "MoMTvKSUUAKW",
    "outputId": "42045d1c-4713-4264-8367-299262bed30b"
   },
   "outputs": [
    {
     "data": {
      "text/plain": [
       "225.0148"
      ]
     },
     "execution_count": 18,
     "metadata": {},
     "output_type": "execute_result"
    }
   ],
   "source": [
    "total = 0\n",
    "for r in tokenized_data:\n",
    "    total = total + len(r)\n",
    "total/len(tokenized_data)"
   ]
  },
  {
   "cell_type": "code",
   "execution_count": 19,
   "metadata": {
    "id": "FkHxvgBZXvvF"
   },
   "outputs": [],
   "source": [
    "from tensorflow.keras.preprocessing.sequence import pad_sequences"
   ]
  },
  {
   "cell_type": "code",
   "execution_count": 20,
   "metadata": {
    "id": "Y8Cl8iE5Xzml"
   },
   "outputs": [],
   "source": [
    "padded_data = pad_sequences(tokenized_data,maxlen=225,padding='post',truncating='pre')"
   ]
  },
  {
   "cell_type": "code",
   "execution_count": 21,
   "metadata": {
    "colab": {
     "base_uri": "https://localhost:8080/"
    },
    "id": "x-oJZeh-YPzm",
    "outputId": "5c760b05-a132-4a4d-d43b-468ccd3d3afe"
   },
   "outputs": [
    {
     "data": {
      "text/plain": [
       "array([   51,  1720,   123,    26,   215,   624,    31,  2648,   206,\n",
       "          11,   885,     3,  5383,  1352,  1638,  3016,     6,     3,\n",
       "        1314,  1520,     1,   563,   163,    20,    60, 15714,     1,\n",
       "        2963,     4,   951,    23,   198,   156,    17,   410,     3,\n",
       "         578,   242,    13,    31,   472,  6053,     1,   226,   303,\n",
       "          31,   222,   162,    29,    20,    60,     1,  5078,     4,\n",
       "           1,  2766,   563,    17,  7163,    33,    71,   206,    81,\n",
       "           1,  8491,   181,     4,     1,   563,    11,    21,   183,\n",
       "         341,    17,  3347,     5,  8122,    13,     3,   107,    51,\n",
       "         152,   513,   466,     1,  2256,   327,  2029,  1361,  1017,\n",
       "           5,   195,     1,    18,     3,   586,   162,   237,    20,\n",
       "        7107,   182,    50,     8,   272,     5,   232,     3,    48,\n",
       "          16,     9,   183,   843,     5,    61,    47,    27,   272,\n",
       "          52,    15,   364,    10,   219,    66,    93,    82,   424,\n",
       "           2,   100,   197,   308,     0,     0,     0,     0,     0,\n",
       "           0,     0,     0,     0,     0,     0,     0,     0,     0,\n",
       "           0,     0,     0,     0,     0,     0,     0,     0,     0,\n",
       "           0,     0,     0,     0,     0,     0,     0,     0,     0,\n",
       "           0,     0,     0,     0,     0,     0,     0,     0,     0,\n",
       "           0,     0,     0,     0,     0,     0,     0,     0,     0,\n",
       "           0,     0,     0,     0,     0,     0,     0,     0,     0,\n",
       "           0,     0,     0,     0,     0,     0,     0,     0,     0,\n",
       "           0,     0,     0,     0,     0,     0,     0,     0,     0,\n",
       "           0,     0,     0,     0,     0,     0,     0,     0,     0,\n",
       "           0,     0,     0,     0,     0,     0,     0,     0,     0])"
      ]
     },
     "execution_count": 21,
     "metadata": {},
     "output_type": "execute_result"
    }
   ],
   "source": [
    "padded_data[1]"
   ]
  },
  {
   "cell_type": "code",
   "execution_count": 22,
   "metadata": {
    "colab": {
     "base_uri": "https://localhost:8080/"
    },
    "id": "AiO-66HvYTLk",
    "outputId": "6cb62d3d-9cd2-49cf-987e-44b158bd5e43"
   },
   "outputs": [
    {
     "data": {
      "text/plain": [
       "(225, 225, 225, 225)"
      ]
     },
     "execution_count": 22,
     "metadata": {},
     "output_type": "execute_result"
    }
   ],
   "source": [
    "len(padded_data[0]),len(padded_data[1]),len(padded_data[2]),len(padded_data[3])"
   ]
  },
  {
   "cell_type": "code",
   "execution_count": 23,
   "metadata": {
    "id": "QjzXzztKYz3_"
   },
   "outputs": [],
   "source": [
    "from tensorflow.keras.layers import LSTM, Embedding, Dense\n",
    "from tensorflow.keras.models import Sequential"
   ]
  },
  {
   "cell_type": "code",
   "execution_count": 24,
   "metadata": {
    "id": "3Vm6vbbjY_rO"
   },
   "outputs": [],
   "source": [
    "model = Sequential()\n",
    "model.add(Embedding(input_dim=25000, output_dim=80, input_length=225))\n",
    "model.add(LSTM(100, return_sequences=True))\n",
    "model.add(LSTM(100, return_sequences=True))\n",
    "model.add(LSTM(100, return_sequences=False))\n",
    "model.add(Dense(1, activation='sigmoid'))\n",
    "\n",
    "model.compile(loss='binary_crossentropy', metrics=['accuracy'])\n"
   ]
  },
  {
   "cell_type": "code",
   "execution_count": 25,
   "metadata": {
    "id": "0A0gyuadcRWR"
   },
   "outputs": [],
   "source": [
    "y = df_train['sentiment'].apply(lambda x:0 if x=='negative' else 1)"
   ]
  },
  {
   "cell_type": "code",
   "execution_count": null,
   "metadata": {
    "colab": {
     "base_uri": "https://localhost:8080/"
    },
    "id": "dhnO7iE8cVZr",
    "outputId": "da4fc5e3-ae44-445c-d1ee-2978f303daf7"
   },
   "outputs": [
    {
     "name": "stdout",
     "output_type": "stream",
     "text": [
      "Epoch 1/3\n",
      "406/625 [==================>...........] - ETA: 10:50 - loss: 0.6618 - accuracy: 0.6003"
     ]
    }
   ],
   "source": [
    "model.fit(padded_data, y, batch_size=64, epochs=3)"
   ]
  },
  {
   "cell_type": "code",
   "execution_count": 35,
   "metadata": {
    "id": "Fw8V5MCQcxzt"
   },
   "outputs": [],
   "source": [
    "model.save('my_imdb_model.h5')"
   ]
  },
  {
   "cell_type": "code",
   "execution_count": 36,
   "metadata": {
    "colab": {
     "base_uri": "https://localhost:8080/"
    },
    "id": "ZJJrqn05dR9f",
    "outputId": "3992e9a3-0bde-4dfc-a1ba-5d4e5a843e6f"
   },
   "outputs": [
    {
     "name": "stdout",
     "output_type": "stream",
     "text": [
      "313/313 [==============================] - 5s 13ms/step\n"
     ]
    }
   ],
   "source": [
    "df_test['review'] = df_test['review'].apply(cleanhtml)\n",
    "tokenized_data_test = tokenizer.texts_to_sequences(df_test['review'])\n",
    "padded_data_test = pad_sequences(tokenized_data_test,\n",
    "              maxlen=225, padding='post',truncating='pre')\n",
    "yp = model.predict(padded_data_test)"
   ]
  },
  {
   "cell_type": "code",
   "execution_count": 39,
   "metadata": {
    "colab": {
     "base_uri": "https://localhost:8080/"
    },
    "id": "CDBpvOhqd-KJ",
    "outputId": "7452da37-396b-4d08-b3cd-dcb50c31803d"
   },
   "outputs": [
    {
     "data": {
      "text/plain": [
       "array([[0.70516896],\n",
       "       [0.08674368],\n",
       "       [0.00706425],\n",
       "       ...,\n",
       "       [0.00781667],\n",
       "       [0.00626189],\n",
       "       [0.01116759]], dtype=float32)"
      ]
     },
     "execution_count": 39,
     "metadata": {},
     "output_type": "execute_result"
    }
   ],
   "source": [
    "yp = "
   ]
  },
  {
   "cell_type": "code",
   "execution_count": 41,
   "metadata": {
    "id": "VmDetgg4eJtr"
   },
   "outputs": [],
   "source": [
    "yp = np.where(yp>0.5,'positive','negative')"
   ]
  },
  {
   "cell_type": "code",
   "execution_count": 42,
   "metadata": {
    "id": "MY0XU5aSf36U"
   },
   "outputs": [],
   "source": [
    "from sklearn.metrics import accuracy_score"
   ]
  },
  {
   "cell_type": "code",
   "execution_count": 43,
   "metadata": {
    "colab": {
     "base_uri": "https://localhost:8080/"
    },
    "id": "ZDU6qH0dgDrV",
    "outputId": "9a3b772c-d935-43bf-d6e4-ca1bf9321622"
   },
   "outputs": [
    {
     "data": {
      "text/plain": [
       "0.8887"
      ]
     },
     "execution_count": 43,
     "metadata": {},
     "output_type": "execute_result"
    }
   ],
   "source": [
    "accuracy_score(df_test['sentiment'],yp)"
   ]
  },
  {
   "cell_type": "code",
   "execution_count": 51,
   "metadata": {
    "id": "GiazZw9tgRER"
   },
   "outputs": [],
   "source": [
    "# testng on real data \n",
    "def get_sentiments(reviews):\n",
    "  reviews = pd.Series(reviews)\n",
    "  reviews = reviews.apply(cleanhtml)\n",
    "  tokenized_data_test = tokenizer.texts_to_sequences(reviews)\n",
    "  padded_data_test = pad_sequences(tokenized_data_test,\n",
    "                maxlen=225, padding='post',truncating='pre')\n",
    "  yp = model.predict(padded_data_test)\n",
    "\n",
    "  return yp"
   ]
  },
  {
   "cell_type": "code",
   "execution_count": 52,
   "metadata": {
    "id": "xxWs8CpXhMx_"
   },
   "outputs": [],
   "source": [
    "reviews = ['Very good movie. The subject is unusual.... Movie shows reality of factory workers and victim of viral videos of those women',\n",
    "           'Heart warming ☺️ lots of love for One and only Alakh sir🔥🔥',\n",
    "           'Amazing, literally I crying many of time when I saw this series....Love you Alakh sir 😇😇',\n",
    "           '''Very few web series like this: Hatts of to Mr. Kakkar sir for making and bringing this masterpiece for us. Outstanding series I've ever watched related to Mumbai.... ''']\n",
    "           "
   ]
  },
  {
   "cell_type": "code",
   "execution_count": 53,
   "metadata": {
    "colab": {
     "base_uri": "https://localhost:8080/"
    },
    "id": "CTr1A1n3jL-t",
    "outputId": "7bd620f4-ba3c-456b-8983-9eebb4e9ab7f"
   },
   "outputs": [
    {
     "data": {
      "text/plain": [
       "['Very good movie. The subject is unusual.... Movie shows reality of factory workers and victim of viral videos of those women',\n",
       " 'Heart warming ☺️ lots of love for One and only Alakh sir🔥🔥',\n",
       " 'Amazing, literally I crying many of time when I saw this series....Love you Alakh sir 😇😇',\n",
       " \"Very few web series like this: Hatts of to Mr. Kakkar sir for making and bringing this masterpiece for us. Outstanding series I've ever watched related to Mumbai.... \"]"
      ]
     },
     "execution_count": 53,
     "metadata": {},
     "output_type": "execute_result"
    }
   ],
   "source": [
    "reviews"
   ]
  },
  {
   "cell_type": "code",
   "execution_count": 54,
   "metadata": {
    "colab": {
     "base_uri": "https://localhost:8080/"
    },
    "id": "b-YjOaTgiwTO",
    "outputId": "2feefcfd-79a6-40df-b06e-13b374b295dc"
   },
   "outputs": [
    {
     "name": "stdout",
     "output_type": "stream",
     "text": [
      "1/1 [==============================] - 0s 35ms/step\n"
     ]
    },
    {
     "data": {
      "text/plain": [
       "array([[0.9180415 ],\n",
       "       [0.9125324 ],\n",
       "       [0.87863153],\n",
       "       [0.9729884 ]], dtype=float32)"
      ]
     },
     "execution_count": 54,
     "metadata": {},
     "output_type": "execute_result"
    }
   ],
   "source": [
    "import numpy as np\n",
    "import pandas as pd\n",
    "\n",
    "get_sentiments(reviews)"
   ]
  },
  {
   "cell_type": "code",
   "execution_count": 57,
   "metadata": {
    "colab": {
     "base_uri": "https://localhost:8080/",
     "height": 171
    },
    "id": "EuEUxJX0i2Dv",
    "outputId": "e60af520-063b-4c7d-a6bf-054086c63705"
   },
   "outputs": [
    {
     "ename": "TypeError",
     "evalue": "ignored",
     "output_type": "error",
     "traceback": [
      "\u001b[0;31m---------------------------------------------------------------------------\u001b[0m",
      "\u001b[0;31mTypeError\u001b[0m                                 Traceback (most recent call last)",
      "\u001b[0;32m<ipython-input-57-fe4cb8e70f45>\u001b[0m in \u001b[0;36m<module>\u001b[0;34m\u001b[0m\n\u001b[0;32m----> 1\u001b[0;31m \u001b[0myp\u001b[0m \u001b[0;34m=\u001b[0m \u001b[0mnp\u001b[0m\u001b[0;34m.\u001b[0m\u001b[0mwhere\u001b[0m\u001b[0;34m(\u001b[0m\u001b[0myp\u001b[0m\u001b[0;34m>\u001b[0m\u001b[0;36m0.5\u001b[0m\u001b[0;34m,\u001b[0m\u001b[0;34m[\u001b[0m\u001b[0;34m'positive'\u001b[0m\u001b[0;34m]\u001b[0m\u001b[0;34m,\u001b[0m\u001b[0;34m[\u001b[0m\u001b[0;34m'negative'\u001b[0m\u001b[0;34m]\u001b[0m\u001b[0;34m)\u001b[0m\u001b[0;34m\u001b[0m\u001b[0;34m\u001b[0m\u001b[0m\n\u001b[0m",
      "\u001b[0;31mTypeError\u001b[0m: '>' not supported between instances of 'numpy.ndarray' and 'float'"
     ]
    }
   ],
   "source": [
    "yp = np.where(yp>0.5,['positive'],['negative'])"
   ]
  },
  {
   "cell_type": "code",
   "execution_count": null,
   "metadata": {
    "id": "g9Qm2-UYlb_t"
   },
   "outputs": [],
   "source": []
  }
 ],
 "metadata": {
  "accelerator": "GPU",
  "colab": {
   "provenance": []
  },
  "gpuClass": "standard",
  "kernelspec": {
   "display_name": "Python [conda env:tf_env1]",
   "language": "python",
   "name": "conda-env-tf_env1-py"
  },
  "language_info": {
   "codemirror_mode": {
    "name": "ipython",
    "version": 3
   },
   "file_extension": ".py",
   "mimetype": "text/x-python",
   "name": "python",
   "nbconvert_exporter": "python",
   "pygments_lexer": "ipython3",
   "version": "3.9.13"
  }
 },
 "nbformat": 4,
 "nbformat_minor": 1
}
